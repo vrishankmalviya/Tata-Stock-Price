{
 "cells": [
  {
   "cell_type": "code",
   "execution_count": 15,
   "metadata": {},
   "outputs": [
    {
     "data": {
      "text/html": [
       "<div>\n",
       "<style scoped>\n",
       "    .dataframe tbody tr th:only-of-type {\n",
       "        vertical-align: middle;\n",
       "    }\n",
       "\n",
       "    .dataframe tbody tr th {\n",
       "        vertical-align: top;\n",
       "    }\n",
       "\n",
       "    .dataframe thead th {\n",
       "        text-align: right;\n",
       "    }\n",
       "</style>\n",
       "<table border=\"1\" class=\"dataframe\">\n",
       "  <thead>\n",
       "    <tr style=\"text-align: right;\">\n",
       "      <th></th>\n",
       "      <th>Open</th>\n",
       "      <th>High</th>\n",
       "      <th>Low</th>\n",
       "      <th>Close</th>\n",
       "      <th>Adj Close</th>\n",
       "      <th>Volume</th>\n",
       "    </tr>\n",
       "    <tr>\n",
       "      <th>Date</th>\n",
       "      <th></th>\n",
       "      <th></th>\n",
       "      <th></th>\n",
       "      <th></th>\n",
       "      <th></th>\n",
       "      <th></th>\n",
       "    </tr>\n",
       "  </thead>\n",
       "  <tbody>\n",
       "    <tr>\n",
       "      <th>2019-02-05</th>\n",
       "      <td>180.699997</td>\n",
       "      <td>181.149994</td>\n",
       "      <td>174.699997</td>\n",
       "      <td>175.800003</td>\n",
       "      <td>175.253784</td>\n",
       "      <td>12064426</td>\n",
       "    </tr>\n",
       "    <tr>\n",
       "      <th>2019-02-06</th>\n",
       "      <td>176.000000</td>\n",
       "      <td>179.449997</td>\n",
       "      <td>171.899994</td>\n",
       "      <td>178.500000</td>\n",
       "      <td>177.945404</td>\n",
       "      <td>10334594</td>\n",
       "    </tr>\n",
       "    <tr>\n",
       "      <th>2019-02-07</th>\n",
       "      <td>179.000000</td>\n",
       "      <td>185.000000</td>\n",
       "      <td>178.899994</td>\n",
       "      <td>182.850006</td>\n",
       "      <td>182.281891</td>\n",
       "      <td>16152722</td>\n",
       "    </tr>\n",
       "    <tr>\n",
       "      <th>2019-02-08</th>\n",
       "      <td>164.600006</td>\n",
       "      <td>164.600006</td>\n",
       "      <td>129.000000</td>\n",
       "      <td>150.699997</td>\n",
       "      <td>150.231766</td>\n",
       "      <td>102256857</td>\n",
       "    </tr>\n",
       "    <tr>\n",
       "      <th>2019-02-11</th>\n",
       "      <td>150.149994</td>\n",
       "      <td>153.250000</td>\n",
       "      <td>145.850006</td>\n",
       "      <td>152.649994</td>\n",
       "      <td>152.175705</td>\n",
       "      <td>26161867</td>\n",
       "    </tr>\n",
       "  </tbody>\n",
       "</table>\n",
       "</div>"
      ],
      "text/plain": [
       "                  Open        High         Low       Close   Adj Close  \\\n",
       "Date                                                                     \n",
       "2019-02-05  180.699997  181.149994  174.699997  175.800003  175.253784   \n",
       "2019-02-06  176.000000  179.449997  171.899994  178.500000  177.945404   \n",
       "2019-02-07  179.000000  185.000000  178.899994  182.850006  182.281891   \n",
       "2019-02-08  164.600006  164.600006  129.000000  150.699997  150.231766   \n",
       "2019-02-11  150.149994  153.250000  145.850006  152.649994  152.175705   \n",
       "\n",
       "               Volume  \n",
       "Date                   \n",
       "2019-02-05   12064426  \n",
       "2019-02-06   10334594  \n",
       "2019-02-07   16152722  \n",
       "2019-02-08  102256857  \n",
       "2019-02-11   26161867  "
      ]
     },
     "execution_count": 15,
     "metadata": {},
     "output_type": "execute_result"
    }
   ],
   "source": [
    "import pandas as pd \n",
    "%matplotlib inline\n",
    "df=pd.read_csv(\"TATAMOTORS.csv\",parse_dates=[\"Date\"],index_col=\"Date\")\n",
    "df.head(5)\n"
   ]
  },
  {
   "cell_type": "markdown",
   "metadata": {},
   "source": [
    "Topics to be covered in this phase will be DataTime Index and resampling"
   ]
  },
  {
   "cell_type": "code",
   "execution_count": 5,
   "metadata": {},
   "outputs": [],
   "source": [
    "#type(df.Date[0])"
   ]
  },
  {
   "cell_type": "code",
   "execution_count": 6,
   "metadata": {},
   "outputs": [
    {
     "data": {
      "text/plain": [
       "DatetimeIndex(['2019-02-05', '2019-02-06', '2019-02-07', '2019-02-08',\n",
       "               '2019-02-11', '2019-02-12', '2019-02-14', '2019-02-15',\n",
       "               '2019-02-18', '2019-02-19',\n",
       "               ...\n",
       "               '2024-01-19', '2024-01-22', '2024-01-23', '2024-01-24',\n",
       "               '2024-01-25', '2024-01-29', '2024-01-30', '2024-01-31',\n",
       "               '2024-02-01', '2024-02-02'],\n",
       "              dtype='datetime64[ns]', name='Date', length=1234, freq=None)"
      ]
     },
     "execution_count": 6,
     "metadata": {},
     "output_type": "execute_result"
    }
   ],
   "source": [
    "df.index"
   ]
  },
  {
   "cell_type": "code",
   "execution_count": 7,
   "metadata": {},
   "outputs": [
    {
     "data": {
      "text/html": [
       "<div>\n",
       "<style scoped>\n",
       "    .dataframe tbody tr th:only-of-type {\n",
       "        vertical-align: middle;\n",
       "    }\n",
       "\n",
       "    .dataframe tbody tr th {\n",
       "        vertical-align: top;\n",
       "    }\n",
       "\n",
       "    .dataframe thead th {\n",
       "        text-align: right;\n",
       "    }\n",
       "</style>\n",
       "<table border=\"1\" class=\"dataframe\">\n",
       "  <thead>\n",
       "    <tr style=\"text-align: right;\">\n",
       "      <th></th>\n",
       "      <th>Open</th>\n",
       "      <th>High</th>\n",
       "      <th>Low</th>\n",
       "      <th>Close</th>\n",
       "      <th>Adj Close</th>\n",
       "      <th>Volume</th>\n",
       "    </tr>\n",
       "    <tr>\n",
       "      <th>Date</th>\n",
       "      <th></th>\n",
       "      <th></th>\n",
       "      <th></th>\n",
       "      <th></th>\n",
       "      <th></th>\n",
       "      <th></th>\n",
       "    </tr>\n",
       "  </thead>\n",
       "  <tbody>\n",
       "    <tr>\n",
       "      <th>2019-04-01</th>\n",
       "      <td>176.350006</td>\n",
       "      <td>189.750000</td>\n",
       "      <td>176.350006</td>\n",
       "      <td>187.350006</td>\n",
       "      <td>186.767914</td>\n",
       "      <td>46389181</td>\n",
       "    </tr>\n",
       "    <tr>\n",
       "      <th>2019-04-02</th>\n",
       "      <td>188.050003</td>\n",
       "      <td>204.399994</td>\n",
       "      <td>185.300003</td>\n",
       "      <td>202.949997</td>\n",
       "      <td>202.319427</td>\n",
       "      <td>100834335</td>\n",
       "    </tr>\n",
       "    <tr>\n",
       "      <th>2019-04-03</th>\n",
       "      <td>205.000000</td>\n",
       "      <td>208.949997</td>\n",
       "      <td>199.199997</td>\n",
       "      <td>201.350006</td>\n",
       "      <td>200.724411</td>\n",
       "      <td>81779620</td>\n",
       "    </tr>\n",
       "    <tr>\n",
       "      <th>2019-04-04</th>\n",
       "      <td>201.850006</td>\n",
       "      <td>206.899994</td>\n",
       "      <td>201.050003</td>\n",
       "      <td>206.149994</td>\n",
       "      <td>205.509491</td>\n",
       "      <td>41268908</td>\n",
       "    </tr>\n",
       "    <tr>\n",
       "      <th>2019-04-05</th>\n",
       "      <td>208.000000</td>\n",
       "      <td>209.500000</td>\n",
       "      <td>202.300003</td>\n",
       "      <td>205.149994</td>\n",
       "      <td>204.512589</td>\n",
       "      <td>32057373</td>\n",
       "    </tr>\n",
       "    <tr>\n",
       "      <th>2019-04-08</th>\n",
       "      <td>206.000000</td>\n",
       "      <td>207.399994</td>\n",
       "      <td>198.800003</td>\n",
       "      <td>200.550003</td>\n",
       "      <td>199.926895</td>\n",
       "      <td>23877595</td>\n",
       "    </tr>\n",
       "    <tr>\n",
       "      <th>2019-04-09</th>\n",
       "      <td>200.000000</td>\n",
       "      <td>207.600006</td>\n",
       "      <td>198.149994</td>\n",
       "      <td>205.899994</td>\n",
       "      <td>205.260254</td>\n",
       "      <td>29611268</td>\n",
       "    </tr>\n",
       "    <tr>\n",
       "      <th>2019-04-10</th>\n",
       "      <td>206.000000</td>\n",
       "      <td>217.399994</td>\n",
       "      <td>205.600006</td>\n",
       "      <td>216.050003</td>\n",
       "      <td>215.378738</td>\n",
       "      <td>69349488</td>\n",
       "    </tr>\n",
       "    <tr>\n",
       "      <th>2019-04-11</th>\n",
       "      <td>216.600006</td>\n",
       "      <td>219.199997</td>\n",
       "      <td>213.300003</td>\n",
       "      <td>218.199997</td>\n",
       "      <td>217.522049</td>\n",
       "      <td>41859862</td>\n",
       "    </tr>\n",
       "    <tr>\n",
       "      <th>2019-04-12</th>\n",
       "      <td>218.949997</td>\n",
       "      <td>219.000000</td>\n",
       "      <td>215.000000</td>\n",
       "      <td>215.949997</td>\n",
       "      <td>215.279037</td>\n",
       "      <td>21788548</td>\n",
       "    </tr>\n",
       "    <tr>\n",
       "      <th>2019-04-15</th>\n",
       "      <td>217.149994</td>\n",
       "      <td>233.250000</td>\n",
       "      <td>217.149994</td>\n",
       "      <td>231.750000</td>\n",
       "      <td>231.029953</td>\n",
       "      <td>57283251</td>\n",
       "    </tr>\n",
       "    <tr>\n",
       "      <th>2019-04-16</th>\n",
       "      <td>233.800003</td>\n",
       "      <td>234.100006</td>\n",
       "      <td>225.649994</td>\n",
       "      <td>230.500000</td>\n",
       "      <td>229.783829</td>\n",
       "      <td>41653657</td>\n",
       "    </tr>\n",
       "    <tr>\n",
       "      <th>2019-04-18</th>\n",
       "      <td>231.899994</td>\n",
       "      <td>239.300003</td>\n",
       "      <td>230.600006</td>\n",
       "      <td>236.250000</td>\n",
       "      <td>235.515976</td>\n",
       "      <td>42451178</td>\n",
       "    </tr>\n",
       "    <tr>\n",
       "      <th>2019-04-22</th>\n",
       "      <td>235.000000</td>\n",
       "      <td>239.350006</td>\n",
       "      <td>231.699997</td>\n",
       "      <td>234.850006</td>\n",
       "      <td>234.120331</td>\n",
       "      <td>30282217</td>\n",
       "    </tr>\n",
       "    <tr>\n",
       "      <th>2019-04-23</th>\n",
       "      <td>235.000000</td>\n",
       "      <td>235.850006</td>\n",
       "      <td>230.250000</td>\n",
       "      <td>231.649994</td>\n",
       "      <td>230.930252</td>\n",
       "      <td>18975358</td>\n",
       "    </tr>\n",
       "    <tr>\n",
       "      <th>2019-04-24</th>\n",
       "      <td>231.649994</td>\n",
       "      <td>232.949997</td>\n",
       "      <td>217.600006</td>\n",
       "      <td>223.600006</td>\n",
       "      <td>222.905273</td>\n",
       "      <td>50317411</td>\n",
       "    </tr>\n",
       "    <tr>\n",
       "      <th>2019-04-25</th>\n",
       "      <td>223.399994</td>\n",
       "      <td>225.899994</td>\n",
       "      <td>220.250000</td>\n",
       "      <td>221.850006</td>\n",
       "      <td>221.160721</td>\n",
       "      <td>27132908</td>\n",
       "    </tr>\n",
       "    <tr>\n",
       "      <th>2019-04-26</th>\n",
       "      <td>221.899994</td>\n",
       "      <td>221.899994</td>\n",
       "      <td>214.000000</td>\n",
       "      <td>215.600006</td>\n",
       "      <td>214.930130</td>\n",
       "      <td>26038093</td>\n",
       "    </tr>\n",
       "    <tr>\n",
       "      <th>2019-04-30</th>\n",
       "      <td>216.199997</td>\n",
       "      <td>218.649994</td>\n",
       "      <td>210.300003</td>\n",
       "      <td>214.300003</td>\n",
       "      <td>213.634171</td>\n",
       "      <td>21289116</td>\n",
       "    </tr>\n",
       "  </tbody>\n",
       "</table>\n",
       "</div>"
      ],
      "text/plain": [
       "                  Open        High         Low       Close   Adj Close  \\\n",
       "Date                                                                     \n",
       "2019-04-01  176.350006  189.750000  176.350006  187.350006  186.767914   \n",
       "2019-04-02  188.050003  204.399994  185.300003  202.949997  202.319427   \n",
       "2019-04-03  205.000000  208.949997  199.199997  201.350006  200.724411   \n",
       "2019-04-04  201.850006  206.899994  201.050003  206.149994  205.509491   \n",
       "2019-04-05  208.000000  209.500000  202.300003  205.149994  204.512589   \n",
       "2019-04-08  206.000000  207.399994  198.800003  200.550003  199.926895   \n",
       "2019-04-09  200.000000  207.600006  198.149994  205.899994  205.260254   \n",
       "2019-04-10  206.000000  217.399994  205.600006  216.050003  215.378738   \n",
       "2019-04-11  216.600006  219.199997  213.300003  218.199997  217.522049   \n",
       "2019-04-12  218.949997  219.000000  215.000000  215.949997  215.279037   \n",
       "2019-04-15  217.149994  233.250000  217.149994  231.750000  231.029953   \n",
       "2019-04-16  233.800003  234.100006  225.649994  230.500000  229.783829   \n",
       "2019-04-18  231.899994  239.300003  230.600006  236.250000  235.515976   \n",
       "2019-04-22  235.000000  239.350006  231.699997  234.850006  234.120331   \n",
       "2019-04-23  235.000000  235.850006  230.250000  231.649994  230.930252   \n",
       "2019-04-24  231.649994  232.949997  217.600006  223.600006  222.905273   \n",
       "2019-04-25  223.399994  225.899994  220.250000  221.850006  221.160721   \n",
       "2019-04-26  221.899994  221.899994  214.000000  215.600006  214.930130   \n",
       "2019-04-30  216.199997  218.649994  210.300003  214.300003  213.634171   \n",
       "\n",
       "               Volume  \n",
       "Date                   \n",
       "2019-04-01   46389181  \n",
       "2019-04-02  100834335  \n",
       "2019-04-03   81779620  \n",
       "2019-04-04   41268908  \n",
       "2019-04-05   32057373  \n",
       "2019-04-08   23877595  \n",
       "2019-04-09   29611268  \n",
       "2019-04-10   69349488  \n",
       "2019-04-11   41859862  \n",
       "2019-04-12   21788548  \n",
       "2019-04-15   57283251  \n",
       "2019-04-16   41653657  \n",
       "2019-04-18   42451178  \n",
       "2019-04-22   30282217  \n",
       "2019-04-23   18975358  \n",
       "2019-04-24   50317411  \n",
       "2019-04-25   27132908  \n",
       "2019-04-26   26038093  \n",
       "2019-04-30   21289116  "
      ]
     },
     "execution_count": 7,
     "metadata": {},
     "output_type": "execute_result"
    }
   ],
   "source": [
    "df.loc[\"2019-04\"]"
   ]
  },
  {
   "cell_type": "code",
   "execution_count": 8,
   "metadata": {},
   "outputs": [
    {
     "name": "stdout",
     "output_type": "stream",
     "text": [
      "Index(['Open', 'High', 'Low', 'Close', 'Adj Close', 'Volume'], dtype='object')\n"
     ]
    }
   ],
   "source": [
    "print(df.columns)"
   ]
  },
  {
   "cell_type": "code",
   "execution_count": 9,
   "metadata": {},
   "outputs": [
    {
     "data": {
      "text/plain": [
       "162.1315797368421"
      ]
     },
     "execution_count": 9,
     "metadata": {},
     "output_type": "execute_result"
    }
   ],
   "source": [
    "df.loc[ '2020-02'].Close.mean()"
   ]
  },
  {
   "cell_type": "code",
   "execution_count": 10,
   "metadata": {},
   "outputs": [
    {
     "name": "stdout",
     "output_type": "stream",
     "text": [
      "                  Open        High         Low       Close   Adj Close  \\\n",
      "Date                                                                     \n",
      "2020-02-03  163.500000  168.300003  159.550003  163.850006  163.340927   \n",
      "2020-02-04  166.550003  168.600006  161.199997  165.699997  165.185165   \n",
      "2020-02-05  167.399994  184.949997  166.600006  183.750000  183.179092   \n",
      "2020-02-06  182.000000  183.399994  175.750000  178.850006  178.294312   \n",
      "\n",
      "              Volume  \n",
      "Date                  \n",
      "2020-02-03  66616190  \n",
      "2020-02-04  49034642  \n",
      "2020-02-05  92982265  \n",
      "2020-02-06  61821140  \n"
     ]
    }
   ],
   "source": [
    "print(df.loc['2020-02-03':'2020-02-06'])"
   ]
  },
  {
   "cell_type": "code",
   "execution_count": 11,
   "metadata": {},
   "outputs": [
    {
     "name": "stdout",
     "output_type": "stream",
     "text": [
      "             Open        High         Low       Close   Adj Close      Volume\n",
      "2020-02-03  163.5  168.300003  159.550003  163.850006  163.340927  66616190.0\n"
     ]
    }
   ],
   "source": [
    "selected_row = df.loc['2020-02-03'].to_frame().T\n",
    "\n",
    "print(selected_row)"
   ]
  },
  {
   "cell_type": "code",
   "execution_count": 24,
   "metadata": {},
   "outputs": [
    {
     "data": {
      "text/plain": [
       "<Axes: xlabel='Date'>"
      ]
     },
     "execution_count": 24,
     "metadata": {},
     "output_type": "execute_result"
    },
    {
     "data": {
      "image/png": "[encoded data removed]",
      "text/plain": [
       "<Figure size 640x480 with 1 Axes>"
      ]
     },
     "metadata": {},
     "output_type": "display_data"
    }
   ],
   "source": [
    "df.Close.resample('Y').mean().plot(kind='bar')"
   ]
  },
  {
   "cell_type": "code",
   "execution_count": null,
   "metadata": {},
   "outputs": [],
   "source": []
  }
 ],
 "metadata": {
  "kernelspec": {
   "display_name": "Python 3",
   "language": "python",
   "name": "python3"
  },
  "language_info": {
   "codemirror_mode": {
    "name": "ipython",
    "version": 3
   },
   "file_extension": ".py",
   "mimetype": "text/x-python",
   "name": "python",
   "nbconvert_exporter": "python",
   "pygments_lexer": "ipython3",
   "version": "3.11.3"
  }
 },
 "nbformat": 4,
 "nbformat_minor": 2
}
